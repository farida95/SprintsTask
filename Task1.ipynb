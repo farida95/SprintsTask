{
 "cells": [
  {
   "cell_type": "markdown",
   "id": "03213e22",
   "metadata": {},
   "source": [
    "<p style=\"color:red;font-weight:bold;font-size:18px;\">Exercise  1:</p>"
   ]
  },
  {
   "cell_type": "code",
   "execution_count": 6,
   "id": "44fc53eb",
   "metadata": {},
   "outputs": [
    {
     "name": "stdout",
     "output_type": "stream",
     "text": [
      "Please enter the first number:40\n",
      "Please enter the second number:30\n",
      "The result is: 70\n"
     ]
    }
   ],
   "source": [
    "number1 = input(\"Please enter the first number:\")\n",
    "number2 = input(\"Please enter the second number:\")\n",
    "if(int(number1)*int(number2)<=1000):\n",
    "    print(\"The result is:\",int(number1)*int(number2))\n",
    "else:\n",
    "    print(\"The result is:\",int(number1)+int(number2))"
   ]
  },
  {
   "cell_type": "markdown",
   "id": "518134ad",
   "metadata": {},
   "source": [
    "<p style=\"color:red;font-weight:bold;font-size:18px;\">Exercise  2:</p>"
   ]
  },
  {
   "cell_type": "code",
   "execution_count": 7,
   "id": "9fd86fe9",
   "metadata": {},
   "outputs": [
    {
     "name": "stdout",
     "output_type": "stream",
     "text": [
      "Current Number 0 Previous Number 0 Sum 0\n",
      "Current Number 1 Previous Number 0 Sum 1\n",
      "Current Number 2 Previous Number 1 Sum 3\n",
      "Current Number 3 Previous Number 2 Sum 5\n",
      "Current Number 4 Previous Number 3 Sum 7\n",
      "Current Number 5 Previous Number 4 Sum 9\n",
      "Current Number 6 Previous Number 5 Sum 11\n",
      "Current Number 7 Previous Number 6 Sum 13\n",
      "Current Number 8 Previous Number 7 Sum 15\n",
      "Current Number 9 Previous Number 8 Sum 17\n"
     ]
    }
   ],
   "source": [
    "for i in range(10):\n",
    "    if(i==0):\n",
    "        print(\"Current Number\",i,\"Previous Number\",i,\"Sum\",i)\n",
    "    else:\n",
    "        print(\"Current Number\",i,\"Previous Number\",i-1,\"Sum\",i+i-1)"
   ]
  },
  {
   "cell_type": "markdown",
   "id": "249f425c",
   "metadata": {},
   "source": [
    "<p style=\"color:red;font-weight:bold;font-size:18px;\">Exercise  3:</p>"
   ]
  },
  {
   "cell_type": "code",
   "execution_count": 20,
   "id": "377d4a47",
   "metadata": {},
   "outputs": [
    {
     "name": "stdout",
     "output_type": "stream",
     "text": [
      "pynative\n",
      "p\n",
      "n\n",
      "t\n",
      "v\n"
     ]
    }
   ],
   "source": [
    "def printEven():\n",
    "    string = input()\n",
    "    i = 0\n",
    "    while (i < len(string)):\n",
    "           if(i%2 ==0):\n",
    "                print(string[i])\n",
    "           i = i+1\n",
    "printEven()     "
   ]
  },
  {
   "cell_type": "markdown",
   "id": "b44cf0bf",
   "metadata": {},
   "source": [
    "<p style=\"color:red;font-weight:bold;font-size:18px;\">Exercise  4:</p>"
   ]
  },
  {
   "cell_type": "code",
   "execution_count": 4,
   "id": "0fc807f9",
   "metadata": {},
   "outputs": [
    {
     "name": "stdout",
     "output_type": "stream",
     "text": [
      "tive\n",
      "native\n"
     ]
    }
   ],
   "source": [
    "def remove_chars(s,n):\n",
    "    i = n\n",
    "    s_new = \"\"\n",
    "    while i < len(s):\n",
    "          s_new = s_new + s[i]\n",
    "          i = i + 1\n",
    "    print(s_new)\n",
    "remove_chars(\"pynative\",4)\n",
    "remove_chars(\"pynative\",2)    "
   ]
  },
  {
   "cell_type": "markdown",
   "id": "20dcc580",
   "metadata": {},
   "source": [
    "<p style=\"color:red;font-weight:bold;font-size:18px;\">Exercise  5:</p>"
   ]
  },
  {
   "cell_type": "code",
   "execution_count": 8,
   "id": "b6b98a5b",
   "metadata": {},
   "outputs": [
    {
     "name": "stdout",
     "output_type": "stream",
     "text": [
      "Result is False\n",
      "Result is True\n"
     ]
    }
   ],
   "source": [
    "number_x = [10,20,30,40,50]\n",
    "number_y = [10,20,30,40,10]\n",
    "def checkList(l):\n",
    "    if(l[0] == l[len(l)-1]):\n",
    "        return True\n",
    "    else:\n",
    "        return False\n",
    "print(\"Result is\",checkList(number_x))\n",
    "print(\"Result is\",checkList(number_y))"
   ]
  },
  {
   "cell_type": "markdown",
   "id": "f5ae21ac",
   "metadata": {},
   "source": [
    "<p style=\"color:red;font-weight:bold;font-size:18px;\">Exercise  6:</p>"
   ]
  },
  {
   "cell_type": "code",
   "execution_count": 10,
   "id": "eb3ad331",
   "metadata": {},
   "outputs": [
    {
     "name": "stdout",
     "output_type": "stream",
     "text": [
      "10\n",
      "20\n",
      "55\n"
     ]
    }
   ],
   "source": [
    "list = [10,20,33,46,55]\n",
    "def checkdiv5(l):\n",
    "    for i in range(len(l)):\n",
    "        if(list[i]%5==0):\n",
    "            print(list[i])\n",
    "checkdiv5(list)"
   ]
  },
  {
   "cell_type": "markdown",
   "id": "ccfeb1ca",
   "metadata": {},
   "source": [
    "<p style=\"color:red;font-weight:bold;font-size:18px;\">Exercise  7:</p>"
   ]
  },
  {
   "cell_type": "code",
   "execution_count": 19,
   "id": "7fdca8ab",
   "metadata": {},
   "outputs": [
    {
     "name": "stdout",
     "output_type": "stream",
     "text": [
      "Emma appeared 3 times\n"
     ]
    }
   ],
   "source": [
    "str_x = \"Emma is a good developer. Emma is a writer, Emma\"\n",
    "def checkOccurance(l,s):\n",
    "    i = 0\n",
    "    j = 0\n",
    "    counter = 0\n",
    "    occurance = 0\n",
    "    for i in range(len(l)):\n",
    "        if(l[i] == s[j]):\n",
    "           counter = counter + 1\n",
    "           j = j + 1\n",
    "        i = i + 1\n",
    "        if(counter == len(s)):\n",
    "            occurance = occurance + 1\n",
    "            counter = 0\n",
    "            j = 0\n",
    "    print(s,\"appeared\",occurance,\"times\")\n",
    "checkOccurance(str_x,\"Emma\")"
   ]
  },
  {
   "cell_type": "code",
   "execution_count": null,
   "id": "489cbdab",
   "metadata": {},
   "outputs": [],
   "source": []
  }
 ],
 "metadata": {
  "kernelspec": {
   "display_name": "Python 3 (ipykernel)",
   "language": "python",
   "name": "python3"
  },
  "language_info": {
   "codemirror_mode": {
    "name": "ipython",
    "version": 3
   },
   "file_extension": ".py",
   "mimetype": "text/x-python",
   "name": "python",
   "nbconvert_exporter": "python",
   "pygments_lexer": "ipython3",
   "version": "3.9.7"
  }
 },
 "nbformat": 4,
 "nbformat_minor": 5
}
